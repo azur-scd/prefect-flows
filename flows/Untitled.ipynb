{
 "cells": [
  {
   "cell_type": "code",
   "execution_count": 7,
   "id": "0995af89",
   "metadata": {},
   "outputs": [],
   "source": [
    "import pandas as pd\n",
    "import bamboolib as bam"
   ]
  },
  {
   "cell_type": "code",
   "execution_count": 8,
   "id": "24a875e0",
   "metadata": {},
   "outputs": [
    {
     "data": {
      "application/vnd.jupyter.widget-view+json": {
       "model_id": "f48cfdd539e04b359f69f30c2179b6fd",
       "version_major": 2,
       "version_minor": 0
      },
      "text/plain": [
       "BamboolibModuleWindow(children=(Window(children=(VBox(children=(VBox(children=(Button(description='Read CSV fi…"
      ]
     },
     "metadata": {},
     "output_type": "display_data"
    }
   ],
   "source": [
    "import pandas as pd\n",
    "df = pd.read_csv(r'/home/docker/app/bso_publis_scopus/data/07_model_output/2022-05-04/publis_uniques_doi_oa_data_with_bsoclasses.csv', sep=',', decimal='.')\n",
    "df"
   ]
  },
  {
   "cell_type": "code",
   "execution_count": 12,
   "id": "8536b0b9",
   "metadata": {},
   "outputs": [],
   "source": [
    "df_disc = pd.read_json(\"bso_publis_scopus/data/03_primary/bso_classification.json\")\n",
    "df = df.drop(columns=['bso_classification_fr','main_domain'])"
   ]
  },
  {
   "cell_type": "code",
   "execution_count": 13,
   "id": "e261d3a3",
   "metadata": {},
   "outputs": [],
   "source": [
    "new = pd.merge(df,df_disc, left_on='bso_classification', right_on='name_en',how=\"left\").drop(columns=['name_en']).rename(columns={\"name_fr\": \"bso_classification_fr\"})"
   ]
  },
  {
   "cell_type": "code",
   "execution_count": 16,
   "id": "969ab19a",
   "metadata": {},
   "outputs": [
    {
     "data": {
      "text/plain": [
       "Medical research                              3541\n",
       "Physical sciences, Astronomy                  2629\n",
       "Biology (fond.)                               2436\n",
       "Earth, Ecology, Energy and applied biology    1924\n",
       "Computer and information sciences             1640\n",
       "Mathematics                                    757\n",
       "Social sciences                                472\n",
       "Humanities                                     413\n",
       "Chemistry                                      410\n",
       "Engineering                                    263\n",
       "unknown                                         60\n",
       "Name: bso_classification, dtype: int64"
      ]
     },
     "execution_count": 16,
     "metadata": {},
     "output_type": "execute_result"
    }
   ],
   "source": [
    "new.bso_classification.value_counts()"
   ]
  },
  {
   "cell_type": "code",
   "execution_count": 17,
   "id": "54b1e31f",
   "metadata": {},
   "outputs": [
    {
     "data": {
      "text/plain": [
       "Recherche médicale                                               3541\n",
       "Sciences physiques et astronomie                                 2629\n",
       "Biologie fondamentale                                            2436\n",
       "Sciences de la Terre, écologie, énergie et biologie appliquée    1924\n",
       "Informatique et sciences de l'information                        1640\n",
       "Mathématiques                                                     757\n",
       "Sciences sociales                                                 472\n",
       "Sciences humaines                                                 413\n",
       "Chimie                                                            410\n",
       "Ingénierie                                                        263\n",
       "Inconnu                                                            60\n",
       "Name: bso_classification_fr, dtype: int64"
      ]
     },
     "execution_count": 17,
     "metadata": {},
     "output_type": "execute_result"
    }
   ],
   "source": [
    "new.bso_classification_fr.value_counts()"
   ]
  },
  {
   "cell_type": "code",
   "execution_count": null,
   "id": "c1c8bb33",
   "metadata": {},
   "outputs": [],
   "source": [
    "new.to_csv(\"bso_publis_scopus/data/07_model_output/2022-05-04/publis_uniques_doi_oa_data_with_bsoclasses.csv\",index=False,encoding=\"utf-8\")"
   ]
  }
 ],
 "metadata": {
  "kernelspec": {
   "display_name": "Python 3 (ipykernel)",
   "language": "python",
   "name": "python3"
  },
  "language_info": {
   "codemirror_mode": {
    "name": "ipython",
    "version": 3
   },
   "file_extension": ".py",
   "mimetype": "text/x-python",
   "name": "python",
   "nbconvert_exporter": "python",
   "pygments_lexer": "ipython3",
   "version": "3.8.13"
  }
 },
 "nbformat": 4,
 "nbformat_minor": 5
}
